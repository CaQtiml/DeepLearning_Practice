{
  "nbformat": 4,
  "nbformat_minor": 0,
  "metadata": {
    "accelerator": "GPU",
    "colab": {
      "name": "DateAttention",
      "provenance": [],
      "collapsed_sections": [],
      "authorship_tag": "ABX9TyOypsF6gIKteJBvNbA6tt5v",
      "include_colab_link": true
    },
    "kernelspec": {
      "display_name": "Python 3",
      "name": "python3"
    },
    "language_info": {
      "name": "python"
    }
  },
  "cells": [
    {
      "cell_type": "markdown",
      "metadata": {
        "id": "view-in-github",
        "colab_type": "text"
      },
      "source": [
        "<a href=\"https://colab.research.google.com/github/CaQtiml/Kaggle_Practice/blob/main/DateReformat_AttentionModel.ipynb\" target=\"_parent\"><img src=\"https://colab.research.google.com/assets/colab-badge.svg\" alt=\"Open In Colab\"/></a>"
      ]
    },
    {
      "cell_type": "markdown",
      "source": [
        "Derived from Sequence Models course offered by Deeplearning.ai"
      ],
      "metadata": {
        "id": "bwWRjwF5t3Z1"
      }
    },
    {
      "cell_type": "code",
      "metadata": {
        "colab": {
          "base_uri": "https://localhost:8080/"
        },
        "id": "AWfbs6xR6g0r",
        "outputId": "0a6a8f77-0c9a-4291-f5cf-da5375126cb0"
      },
      "source": [
        "# from google.colab import drive\n",
        "# drive.mount('/content/drive')"
      ],
      "execution_count": null,
      "outputs": [
        {
          "output_type": "stream",
          "text": [
            "Drive already mounted at /content/drive; to attempt to forcibly remount, call drive.mount(\"/content/drive\", force_remount=True).\n"
          ],
          "name": "stdout"
        }
      ]
    },
    {
      "cell_type": "code",
      "metadata": {
        "colab": {
          "base_uri": "https://localhost:8080/"
        },
        "id": "3o7V9bisAllR",
        "outputId": "9678e3aa-633a-4d2d-afcd-7603c23aceec"
      },
      "source": [
        "!pip install Faker"
      ],
      "execution_count": null,
      "outputs": [
        {
          "output_type": "stream",
          "text": [
            "Collecting Faker\n",
            "  Downloading Faker-8.11.0-py3-none-any.whl (1.2 MB)\n",
            "\u001b[?25l\r\u001b[K     |▎                               | 10 kB 29.0 MB/s eta 0:00:01\r\u001b[K     |▋                               | 20 kB 10.1 MB/s eta 0:00:01\r\u001b[K     |▉                               | 30 kB 8.6 MB/s eta 0:00:01\r\u001b[K     |█▏                              | 40 kB 7.9 MB/s eta 0:00:01\r\u001b[K     |█▍                              | 51 kB 4.2 MB/s eta 0:00:01\r\u001b[K     |█▊                              | 61 kB 4.4 MB/s eta 0:00:01\r\u001b[K     |██                              | 71 kB 4.6 MB/s eta 0:00:01\r\u001b[K     |██▎                             | 81 kB 5.2 MB/s eta 0:00:01\r\u001b[K     |██▌                             | 92 kB 5.3 MB/s eta 0:00:01\r\u001b[K     |██▉                             | 102 kB 4.3 MB/s eta 0:00:01\r\u001b[K     |███                             | 112 kB 4.3 MB/s eta 0:00:01\r\u001b[K     |███▍                            | 122 kB 4.3 MB/s eta 0:00:01\r\u001b[K     |███▋                            | 133 kB 4.3 MB/s eta 0:00:01\r\u001b[K     |████                            | 143 kB 4.3 MB/s eta 0:00:01\r\u001b[K     |████▏                           | 153 kB 4.3 MB/s eta 0:00:01\r\u001b[K     |████▌                           | 163 kB 4.3 MB/s eta 0:00:01\r\u001b[K     |████▊                           | 174 kB 4.3 MB/s eta 0:00:01\r\u001b[K     |█████                           | 184 kB 4.3 MB/s eta 0:00:01\r\u001b[K     |█████▎                          | 194 kB 4.3 MB/s eta 0:00:01\r\u001b[K     |█████▋                          | 204 kB 4.3 MB/s eta 0:00:01\r\u001b[K     |█████▉                          | 215 kB 4.3 MB/s eta 0:00:01\r\u001b[K     |██████▏                         | 225 kB 4.3 MB/s eta 0:00:01\r\u001b[K     |██████▍                         | 235 kB 4.3 MB/s eta 0:00:01\r\u001b[K     |██████▊                         | 245 kB 4.3 MB/s eta 0:00:01\r\u001b[K     |███████                         | 256 kB 4.3 MB/s eta 0:00:01\r\u001b[K     |███████▎                        | 266 kB 4.3 MB/s eta 0:00:01\r\u001b[K     |███████▌                        | 276 kB 4.3 MB/s eta 0:00:01\r\u001b[K     |███████▉                        | 286 kB 4.3 MB/s eta 0:00:01\r\u001b[K     |████████                        | 296 kB 4.3 MB/s eta 0:00:01\r\u001b[K     |████████▍                       | 307 kB 4.3 MB/s eta 0:00:01\r\u001b[K     |████████▋                       | 317 kB 4.3 MB/s eta 0:00:01\r\u001b[K     |█████████                       | 327 kB 4.3 MB/s eta 0:00:01\r\u001b[K     |█████████▎                      | 337 kB 4.3 MB/s eta 0:00:01\r\u001b[K     |█████████▌                      | 348 kB 4.3 MB/s eta 0:00:01\r\u001b[K     |█████████▉                      | 358 kB 4.3 MB/s eta 0:00:01\r\u001b[K     |██████████                      | 368 kB 4.3 MB/s eta 0:00:01\r\u001b[K     |██████████▍                     | 378 kB 4.3 MB/s eta 0:00:01\r\u001b[K     |██████████▋                     | 389 kB 4.3 MB/s eta 0:00:01\r\u001b[K     |███████████                     | 399 kB 4.3 MB/s eta 0:00:01\r\u001b[K     |███████████▏                    | 409 kB 4.3 MB/s eta 0:00:01\r\u001b[K     |███████████▌                    | 419 kB 4.3 MB/s eta 0:00:01\r\u001b[K     |███████████▊                    | 430 kB 4.3 MB/s eta 0:00:01\r\u001b[K     |████████████                    | 440 kB 4.3 MB/s eta 0:00:01\r\u001b[K     |████████████▎                   | 450 kB 4.3 MB/s eta 0:00:01\r\u001b[K     |████████████▋                   | 460 kB 4.3 MB/s eta 0:00:01\r\u001b[K     |████████████▉                   | 471 kB 4.3 MB/s eta 0:00:01\r\u001b[K     |█████████████▏                  | 481 kB 4.3 MB/s eta 0:00:01\r\u001b[K     |█████████████▍                  | 491 kB 4.3 MB/s eta 0:00:01\r\u001b[K     |█████████████▊                  | 501 kB 4.3 MB/s eta 0:00:01\r\u001b[K     |██████████████                  | 512 kB 4.3 MB/s eta 0:00:01\r\u001b[K     |██████████████▎                 | 522 kB 4.3 MB/s eta 0:00:01\r\u001b[K     |██████████████▌                 | 532 kB 4.3 MB/s eta 0:00:01\r\u001b[K     |██████████████▉                 | 542 kB 4.3 MB/s eta 0:00:01\r\u001b[K     |███████████████                 | 552 kB 4.3 MB/s eta 0:00:01\r\u001b[K     |███████████████▍                | 563 kB 4.3 MB/s eta 0:00:01\r\u001b[K     |███████████████▋                | 573 kB 4.3 MB/s eta 0:00:01\r\u001b[K     |████████████████                | 583 kB 4.3 MB/s eta 0:00:01\r\u001b[K     |████████████████▏               | 593 kB 4.3 MB/s eta 0:00:01\r\u001b[K     |████████████████▌               | 604 kB 4.3 MB/s eta 0:00:01\r\u001b[K     |████████████████▊               | 614 kB 4.3 MB/s eta 0:00:01\r\u001b[K     |█████████████████               | 624 kB 4.3 MB/s eta 0:00:01\r\u001b[K     |█████████████████▎              | 634 kB 4.3 MB/s eta 0:00:01\r\u001b[K     |█████████████████▋              | 645 kB 4.3 MB/s eta 0:00:01\r\u001b[K     |██████████████████              | 655 kB 4.3 MB/s eta 0:00:01\r\u001b[K     |██████████████████▏             | 665 kB 4.3 MB/s eta 0:00:01\r\u001b[K     |██████████████████▌             | 675 kB 4.3 MB/s eta 0:00:01\r\u001b[K     |██████████████████▊             | 686 kB 4.3 MB/s eta 0:00:01\r\u001b[K     |███████████████████             | 696 kB 4.3 MB/s eta 0:00:01\r\u001b[K     |███████████████████▎            | 706 kB 4.3 MB/s eta 0:00:01\r\u001b[K     |███████████████████▋            | 716 kB 4.3 MB/s eta 0:00:01\r\u001b[K     |███████████████████▉            | 727 kB 4.3 MB/s eta 0:00:01\r\u001b[K     |████████████████████▏           | 737 kB 4.3 MB/s eta 0:00:01\r\u001b[K     |████████████████████▍           | 747 kB 4.3 MB/s eta 0:00:01\r\u001b[K     |████████████████████▊           | 757 kB 4.3 MB/s eta 0:00:01\r\u001b[K     |█████████████████████           | 768 kB 4.3 MB/s eta 0:00:01\r\u001b[K     |█████████████████████▎          | 778 kB 4.3 MB/s eta 0:00:01\r\u001b[K     |█████████████████████▌          | 788 kB 4.3 MB/s eta 0:00:01\r\u001b[K     |█████████████████████▉          | 798 kB 4.3 MB/s eta 0:00:01\r\u001b[K     |██████████████████████          | 808 kB 4.3 MB/s eta 0:00:01\r\u001b[K     |██████████████████████▍         | 819 kB 4.3 MB/s eta 0:00:01\r\u001b[K     |██████████████████████▋         | 829 kB 4.3 MB/s eta 0:00:01\r\u001b[K     |███████████████████████         | 839 kB 4.3 MB/s eta 0:00:01\r\u001b[K     |███████████████████████▏        | 849 kB 4.3 MB/s eta 0:00:01\r\u001b[K     |███████████████████████▌        | 860 kB 4.3 MB/s eta 0:00:01\r\u001b[K     |███████████████████████▊        | 870 kB 4.3 MB/s eta 0:00:01\r\u001b[K     |████████████████████████        | 880 kB 4.3 MB/s eta 0:00:01\r\u001b[K     |████████████████████████▎       | 890 kB 4.3 MB/s eta 0:00:01\r\u001b[K     |████████████████████████▋       | 901 kB 4.3 MB/s eta 0:00:01\r\u001b[K     |████████████████████████▉       | 911 kB 4.3 MB/s eta 0:00:01\r\u001b[K     |█████████████████████████▏      | 921 kB 4.3 MB/s eta 0:00:01\r\u001b[K     |█████████████████████████▍      | 931 kB 4.3 MB/s eta 0:00:01\r\u001b[K     |█████████████████████████▊      | 942 kB 4.3 MB/s eta 0:00:01\r\u001b[K     |██████████████████████████      | 952 kB 4.3 MB/s eta 0:00:01\r\u001b[K     |██████████████████████████▎     | 962 kB 4.3 MB/s eta 0:00:01\r\u001b[K     |██████████████████████████▋     | 972 kB 4.3 MB/s eta 0:00:01\r\u001b[K     |██████████████████████████▉     | 983 kB 4.3 MB/s eta 0:00:01\r\u001b[K     |███████████████████████████▏    | 993 kB 4.3 MB/s eta 0:00:01\r\u001b[K     |███████████████████████████▍    | 1.0 MB 4.3 MB/s eta 0:00:01\r\u001b[K     |███████████████████████████▊    | 1.0 MB 4.3 MB/s eta 0:00:01\r\u001b[K     |████████████████████████████    | 1.0 MB 4.3 MB/s eta 0:00:01\r\u001b[K     |████████████████████████████▎   | 1.0 MB 4.3 MB/s eta 0:00:01\r\u001b[K     |████████████████████████████▌   | 1.0 MB 4.3 MB/s eta 0:00:01\r\u001b[K     |████████████████████████████▉   | 1.1 MB 4.3 MB/s eta 0:00:01\r\u001b[K     |█████████████████████████████   | 1.1 MB 4.3 MB/s eta 0:00:01\r\u001b[K     |█████████████████████████████▍  | 1.1 MB 4.3 MB/s eta 0:00:01\r\u001b[K     |█████████████████████████████▋  | 1.1 MB 4.3 MB/s eta 0:00:01\r\u001b[K     |██████████████████████████████  | 1.1 MB 4.3 MB/s eta 0:00:01\r\u001b[K     |██████████████████████████████▏ | 1.1 MB 4.3 MB/s eta 0:00:01\r\u001b[K     |██████████████████████████████▌ | 1.1 MB 4.3 MB/s eta 0:00:01\r\u001b[K     |██████████████████████████████▊ | 1.1 MB 4.3 MB/s eta 0:00:01\r\u001b[K     |███████████████████████████████ | 1.1 MB 4.3 MB/s eta 0:00:01\r\u001b[K     |███████████████████████████████▎| 1.1 MB 4.3 MB/s eta 0:00:01\r\u001b[K     |███████████████████████████████▋| 1.2 MB 4.3 MB/s eta 0:00:01\r\u001b[K     |███████████████████████████████▉| 1.2 MB 4.3 MB/s eta 0:00:01\r\u001b[K     |████████████████████████████████| 1.2 MB 4.3 MB/s \n",
            "\u001b[?25hRequirement already satisfied: text-unidecode==1.3 in /usr/local/lib/python3.7/dist-packages (from Faker) (1.3)\n",
            "Requirement already satisfied: python-dateutil>=2.4 in /usr/local/lib/python3.7/dist-packages (from Faker) (2.8.2)\n",
            "Requirement already satisfied: six>=1.5 in /usr/local/lib/python3.7/dist-packages (from python-dateutil>=2.4->Faker) (1.15.0)\n",
            "Installing collected packages: Faker\n",
            "Successfully installed Faker-8.11.0\n"
          ],
          "name": "stdout"
        }
      ]
    },
    {
      "cell_type": "code",
      "metadata": {
        "id": "9ZcFuCXz67KQ"
      },
      "source": [
        "from tensorflow.keras.layers import Bidirectional, Concatenate, Permute, Dot, Input, LSTM, Multiply\n",
        "from tensorflow.keras.layers import RepeatVector, Dense, Activation, Lambda\n",
        "from tensorflow.keras.optimizers import Adam\n",
        "from tensorflow.keras.utils import to_categorical\n",
        "from tensorflow.keras.models import load_model, Model\n",
        "import tensorflow.keras.backend as K\n",
        "import tensorflow as tf\n",
        "import numpy as np\n",
        "\n",
        "from faker import Faker\n",
        "import random\n",
        "from tqdm import tqdm\n",
        "from babel.dates import format_date\n",
        "from nmt_utils import *\n",
        "import matplotlib.pyplot as plt\n",
        "%matplotlib inline"
      ],
      "execution_count": null,
      "outputs": []
    },
    {
      "cell_type": "code",
      "metadata": {
        "id": "ke2wk-LtN0Mr"
      },
      "source": [
        "fake = Faker()\n",
        "Faker.seed(12345)\n",
        "random.seed(12345)\n",
        "\n",
        "# Define format of the data we would like to generate\n",
        "FORMATS = ['short',\n",
        "           'medium',\n",
        "           'long',\n",
        "           'full',\n",
        "           'full',\n",
        "           'full',\n",
        "           'full',\n",
        "           'full',\n",
        "           'full',\n",
        "           'full',\n",
        "           'full',\n",
        "           'full',\n",
        "           'full',\n",
        "           'd MMM YYY', \n",
        "           'd MMMM YYY',\n",
        "           'dd MMM YYY',\n",
        "           'd MMM, YYY',\n",
        "           'd MMMM, YYY',\n",
        "           'dd, MMM YYY',\n",
        "           'd MM YY',\n",
        "           'd MMMM YYY',\n",
        "           'MMMM d YYY',\n",
        "           'MMMM d, YYY',\n",
        "           'dd.MM.YY',\n",
        "           'dd/MM/YYYY',\n",
        "           'dd/MM/YYYY',\n",
        "           'dd/MM/YYYY']\n",
        "\n",
        "# change this if you want it to work with another language\n",
        "LOCALES = ['en_US']"
      ],
      "execution_count": null,
      "outputs": []
    },
    {
      "cell_type": "code",
      "metadata": {
        "colab": {
          "base_uri": "https://localhost:8080/",
          "height": 35
        },
        "id": "x9gPQGn9PAtN",
        "outputId": "83262fbd-dab6-4a84-fb67-5fda0c6861a8"
      },
      "source": [
        "dt = fake.date_object()\n",
        "dt.isoformat()"
      ],
      "execution_count": null,
      "outputs": [
        {
          "output_type": "execute_result",
          "data": {
            "application/vnd.google.colaboratory.intrinsic+json": {
              "type": "string"
            },
            "text/plain": [
              "'1998-05-09'"
            ]
          },
          "metadata": {
            "tags": []
          },
          "execution_count": 94
        }
      ]
    },
    {
      "cell_type": "code",
      "metadata": {
        "id": "_i484iwMN_Rc"
      },
      "source": [
        "def load_date():\n",
        "    \"\"\"\n",
        "        Loads some fake dates \n",
        "        :returns: tuple containing human readable string, machine readable string, and date object\n",
        "    \"\"\"\n",
        "    dt = fake.date_object()\n",
        "\n",
        "    try:\n",
        "        human_readable = format_date(dt, format=random.choice(FORMATS),  locale='en_US') # locale=random.choice(LOCALES))\n",
        "        human_readable = human_readable.lower()\n",
        "        human_readable = human_readable.replace(',','')\n",
        "        machine_readable = dt.isoformat()\n",
        "        \n",
        "    except AttributeError as e:\n",
        "        return None, None, None\n",
        "\n",
        "    return human_readable, machine_readable, dt"
      ],
      "execution_count": null,
      "outputs": []
    },
    {
      "cell_type": "code",
      "metadata": {
        "id": "TTLWHwkjRhm4"
      },
      "source": [
        "def load_dataset_custom(m):\n",
        "    \"\"\"\n",
        "        Loads a dataset with m examples and vocabularies\n",
        "        :m: the number of examples to generate\n",
        "    \"\"\"\n",
        "    \n",
        "    human_vocab = set()\n",
        "    machine_vocab = set()\n",
        "    dataset = []\n",
        "    Tx = 30\n",
        "    \n",
        "\n",
        "    for i in tqdm(range(m)):\n",
        "        h, m, _ = load_date()\n",
        "        if h is not None:\n",
        "            dataset.append((h, m))\n",
        "            human_vocab.update(tuple(h))\n",
        "            machine_vocab.update(tuple(m))\n",
        "    \n",
        "    human = dict(zip(sorted(human_vocab) + ['<unk>', '<pad>'], \n",
        "                     list(range(len(human_vocab) + 2))))\n",
        "    inv_machine = dict(enumerate(sorted(machine_vocab)))\n",
        "    machine = {v:k for k,v in inv_machine.items()}\n",
        " \n",
        "    return dataset, human, machine, inv_machine"
      ],
      "execution_count": null,
      "outputs": []
    },
    {
      "cell_type": "code",
      "metadata": {
        "colab": {
          "base_uri": "https://localhost:8080/"
        },
        "id": "L1OFuJEv78OO",
        "outputId": "32cf2a73-72ff-4315-8193-6f17e6d5ce75"
      },
      "source": [
        "# Don't forget to import \"nmt_utils.py\"\n",
        "\n",
        "m = 10000\n",
        "# dataset, human_vocab, machine_vocab, inv_machine_vocab = load_dataset(m)\n",
        "dataset, human_vocab, machine_vocab, inv_machine_vocab = load_dataset_custom(m)"
      ],
      "execution_count": null,
      "outputs": [
        {
          "output_type": "stream",
          "text": [
            "100%|██████████| 10000/10000 [00:00<00:00, 23946.73it/s]\n"
          ],
          "name": "stderr"
        }
      ]
    },
    {
      "cell_type": "code",
      "metadata": {
        "colab": {
          "base_uri": "https://localhost:8080/"
        },
        "id": "3ZrgBNsW72xv",
        "outputId": "60189ef0-6ea0-4598-888d-d1f8d181f71a"
      },
      "source": [
        "print(len(dataset))\n",
        "print(human_vocab.items())\n",
        "print(len(human_vocab))\n",
        "print(machine_vocab.items())\n",
        "print(inv_machine_vocab.items())"
      ],
      "execution_count": null,
      "outputs": [
        {
          "output_type": "stream",
          "text": [
            "10000\n",
            "dict_items([(' ', 0), ('.', 1), ('/', 2), ('0', 3), ('1', 4), ('2', 5), ('3', 6), ('4', 7), ('5', 8), ('6', 9), ('7', 10), ('8', 11), ('9', 12), ('a', 13), ('b', 14), ('c', 15), ('d', 16), ('e', 17), ('f', 18), ('g', 19), ('h', 20), ('i', 21), ('j', 22), ('l', 23), ('m', 24), ('n', 25), ('o', 26), ('p', 27), ('r', 28), ('s', 29), ('t', 30), ('u', 31), ('v', 32), ('w', 33), ('y', 34), ('<unk>', 35), ('<pad>', 36)])\n",
            "37\n",
            "dict_items([('-', 0), ('0', 1), ('1', 2), ('2', 3), ('3', 4), ('4', 5), ('5', 6), ('6', 7), ('7', 8), ('8', 9), ('9', 10)])\n",
            "dict_items([(0, '-'), (1, '0'), (2, '1'), (3, '2'), (4, '3'), (5, '4'), (6, '5'), (7, '6'), (8, '7'), (9, '8'), (10, '9')])\n"
          ],
          "name": "stdout"
        }
      ]
    },
    {
      "cell_type": "code",
      "metadata": {
        "colab": {
          "base_uri": "https://localhost:8080/"
        },
        "id": "dZ07xp8i7SBp",
        "outputId": "409b16e3-4087-48a5-9580-dc65d9aa1a9d"
      },
      "source": [
        "import random\n",
        "\n",
        "for i in range(30):\n",
        "    print(random.choice(dataset))"
      ],
      "execution_count": null,
      "outputs": [
        {
          "output_type": "stream",
          "text": [
            "('5/12/87', '1987-05-12')\n",
            "('27/08/1996', '1996-08-27')\n",
            "('wednesday december 18 1974', '1974-12-18')\n",
            "('08.05.02', '2002-05-08')\n",
            "('tuesday january 13 2004', '2004-01-13')\n",
            "('24/09/1977', '1977-09-24')\n",
            "('sunday july 24 1983', '1983-07-24')\n",
            "('1 september 1990', '1990-09-01')\n",
            "('saturday june 19 1971', '1971-06-19')\n",
            "('09 aug 2015', '2015-08-09')\n",
            "('2 april 1975', '1975-04-02')\n",
            "('31 oct 1980', '1980-10-31')\n",
            "('17 mar 1981', '1981-03-17')\n",
            "('11/02/1989', '1989-02-11')\n",
            "('22 12 92', '1992-12-22')\n",
            "('thursday december 25 2008', '2008-12-25')\n",
            "('thursday september 30 1993', '1993-09-30')\n",
            "('saturday july 31 2021', '2021-07-31')\n",
            "('thursday january 25 2007', '2007-01-25')\n",
            "('thursday february 8 2007', '2007-02-08')\n",
            "('thursday january 6 1983', '1983-01-06')\n",
            "('1 jun 1984', '1984-06-01')\n",
            "('12 january 2008', '2008-01-12')\n",
            "('thursday april 21 2011', '2011-04-21')\n",
            "('sunday june 20 1971', '1971-06-20')\n",
            "('14 february 1970', '1970-02-14')\n",
            "('august 2 2010', '2010-08-02')\n",
            "('tuesday september 26 1989', '1989-09-26')\n",
            "('apr 9 2013', '2013-04-09')\n",
            "('tuesday january 19 1993', '1993-01-19')\n"
          ],
          "name": "stdout"
        }
      ]
    },
    {
      "cell_type": "code",
      "metadata": {
        "id": "8EOQ08LU9GGU"
      },
      "source": [
        "Tx = 30\n",
        "Ty = 10\n",
        "X, Y, Xoh, Yoh = preprocess_data(dataset, human_vocab, machine_vocab, Tx, Ty)"
      ],
      "execution_count": null,
      "outputs": []
    },
    {
      "cell_type": "code",
      "metadata": {
        "colab": {
          "base_uri": "https://localhost:8080/"
        },
        "id": "T8U2iUAq9MMP",
        "outputId": "ea7d6837-b4c2-4d11-b5e3-3f96be8ff2c4"
      },
      "source": [
        "print(\"X.shape:\", X.shape)\n",
        "print(\"Y.shape:\", Y.shape)\n",
        "print(\"Xoh.shape:\", Xoh.shape) # (#batch,T_x,len(human_vocab))\n",
        "print(\"Yoh.shape:\", Yoh.shape)"
      ],
      "execution_count": null,
      "outputs": [
        {
          "output_type": "stream",
          "text": [
            "X.shape: (10000, 30)\n",
            "Y.shape: (10000, 10)\n",
            "Xoh.shape: (10000, 30, 37)\n",
            "Yoh.shape: (10000, 10, 11)\n"
          ],
          "name": "stdout"
        }
      ]
    },
    {
      "cell_type": "code",
      "metadata": {
        "id": "wFi4JEj9ENxB"
      },
      "source": [
        "def softmax(x, axis=1):\n",
        "    \"\"\"Softmax activation function.\n",
        "    # Arguments\n",
        "        x : Tensor.\n",
        "        axis: Integer, axis along which the softmax normalization is applied.\n",
        "    # Returns\n",
        "        Tensor, output of softmax transformation.\n",
        "    # Raises\n",
        "        ValueError: In case `dim(x) == 1`.\n",
        "    \"\"\"\n",
        "    ndim = K.ndim(x)\n",
        "    if ndim == 2:\n",
        "        return K.softmax(x)\n",
        "    elif ndim > 2:\n",
        "        # print(ndim)\n",
        "        e = K.exp(x - K.max(x, axis=axis, keepdims=True))\n",
        "        s = K.sum(e, axis=axis, keepdims=True)\n",
        "        return e / s\n",
        "    else:\n",
        "        raise ValueError('Cannot apply softmax to a tensor that is 1D')"
      ],
      "execution_count": null,
      "outputs": []
    },
    {
      "cell_type": "code",
      "metadata": {
        "id": "Vyi7xhOx9PHW"
      },
      "source": [
        "# def one_step_attention(a, s_prev):\n",
        "#     s_prev = RepeatVector(Tx)(s_prev)\n",
        "#     concat = Concatenate(axis = -1)([a,s_prev])\n",
        "#     e = Dense(10, activation = \"tanh\")(concat)\n",
        "#     energies = Dense(1, activation = \"relu\")(e)\n",
        "#     alphas = Activation(softmax, name='attention_weights')(energies)\n",
        "#     context = Dot(axes = 1)([alphas,a])\n",
        "#     return context"
      ],
      "execution_count": null,
      "outputs": []
    },
    {
      "cell_type": "code",
      "metadata": {
        "id": "aSBBqBUWKxyu"
      },
      "source": [
        "# Defined shared layers as global variables\n",
        "repeator = RepeatVector(Tx)\n",
        "concatenator = Concatenate(axis=-1)\n",
        "densor1 = Dense(10, activation = \"tanh\")\n",
        "densor2 = Dense(1, activation = \"relu\")\n",
        "activator = Activation(softmax, name='attention_weights') # Custom Softmax\n",
        "dotor = Dot(axes = 1)"
      ],
      "execution_count": null,
      "outputs": []
    },
    {
      "cell_type": "code",
      "metadata": {
        "id": "HbeKiQrlIlmv"
      },
      "source": [
        "\n",
        "def one_step_attention(a, s_prev):\n",
        "    \"\"\"\n",
        "    Performs one step of attention: Outputs a context vector computed as a dot product of the attention weights\n",
        "    \"alphas\" and the hidden states \"a\" of the Bi-LSTM.\n",
        "    \n",
        "    Arguments:\n",
        "    a -- hidden state output of the Bi-LSTM, numpy-array of shape (m, Tx, 2*n_a)\n",
        "    s_prev -- previous hidden state of the (post-attention) LSTM, numpy-array of shape (m, n_s)\n",
        "    \n",
        "    Returns:\n",
        "    context -- context vector, input of the next (post-attention) LSTM cell\n",
        "    \"\"\"\n",
        "    \n",
        "    s_prev = repeator(s_prev)\n",
        "    # print(s_prev.shape)\n",
        "    # print(a.shape)\n",
        "    concat = concatenator([a,s_prev])\n",
        "    # print(concat.shape)\n",
        "    e = densor1(concat)\n",
        "    # print(e.shape)\n",
        "    energies = densor2(e)\n",
        "    # print(energies.shape)\n",
        "    alphas = activator(energies)\n",
        "    # print(alphas.shape)\n",
        "    context = dotor([alphas,a])\n",
        "    # print(context.shape)\n",
        "    # print( \" -------------------------\")\n",
        "    \n",
        "    return context"
      ],
      "execution_count": null,
      "outputs": []
    },
    {
      "cell_type": "markdown",
      "metadata": {
        "id": "RPbjVloXVAhJ"
      },
      "source": [
        "![image.png](data:image/png;base64,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)"
      ]
    },
    {
      "cell_type": "code",
      "metadata": {
        "id": "Z0B5Z5pT-8hW"
      },
      "source": [
        "n_a = 32 # number of units for the pre-attention, bi-directional LSTM's hidden state 'a'\n",
        "n_s = 64 # number of units for the post-attention LSTM's hidden state \"s\"\n",
        "\n",
        "post_activation_LSTM_cell = LSTM(n_s, return_state = True)\n",
        "output_layer = Dense(len(machine_vocab), activation=softmax)\n",
        "\n",
        "def modelf(Tx, Ty, n_a, n_s, human_vocab_size, machine_vocab_size):\n",
        "    \"\"\"\n",
        "    Arguments:\n",
        "    Tx -- length of the input sequence\n",
        "    Ty -- length of the output sequence\n",
        "    n_a -- hidden state size of the Bi-LSTM\n",
        "    n_s -- hidden state size of the post-attention LSTM\n",
        "    human_vocab_size -- size of the python dictionary \"human_vocab\"\n",
        "    machine_vocab_size -- size of the python dictionary \"machine_vocab\"\n",
        "\n",
        "    Returns:\n",
        "    model -- Keras model instance\n",
        "    \"\"\"\n",
        "    \n",
        "    # Define the inputs of your model with a shape (Tx,)\n",
        "    # Define s0 (initial hidden state) and c0 (initial cell state)\n",
        "    # for the decoder LSTM with shape (n_s,)\n",
        "    X = Input(shape=(Tx, human_vocab_size))\n",
        "    s0 = Input(shape=(n_s,), name='s0')\n",
        "    c0 = Input(shape=(n_s,), name='c0')\n",
        "    s = s0\n",
        "    c = c0\n",
        "    \n",
        "    # Initialize empty list of outputs\n",
        "    outputs = []\n",
        "\n",
        "    a = Bidirectional(LSTM(n_a, return_sequences = True))(X)\n",
        "\n",
        "    for t in range(Ty):\n",
        "        context = one_step_attention(a,s)\n",
        "        s, _, c = post_activation_LSTM_cell(inputs=context, initial_state=[s, c])\n",
        "        out = output_layer(s)\n",
        "        outputs.append(out)\n",
        "    \n",
        "    model = Model(inputs = [X,s0,c0], outputs=outputs)\n",
        "\n",
        "    return model"
      ],
      "execution_count": null,
      "outputs": []
    },
    {
      "cell_type": "code",
      "metadata": {
        "colab": {
          "base_uri": "https://localhost:8080/"
        },
        "id": "xM_5nrzFFIe5",
        "outputId": "990c3650-75c5-4352-ebb9-1a666e1200a8"
      },
      "source": [
        "# UNIT TEST\n",
        "def one_step_attention_test(target):\n",
        "\n",
        "    m = 10\n",
        "    Tx = 30\n",
        "    n_a = 32\n",
        "    n_s = 64\n",
        "    #np.random.seed(10)\n",
        "    a = np.random.uniform(1, 0, (m, Tx, 2 * n_a)).astype(np.float32)\n",
        "    s_prev =np.random.uniform(1, 0, (m, n_s)).astype(np.float32) * 1\n",
        "    context = target(a, s_prev)\n",
        "    \n",
        "    # assert type(context) == tf.python.framework.ops.EagerTensor, \"Unexpected type. It should be a Tensor\"\n",
        "    assert tuple(context.shape) == (m, 1, n_s), \"Unexpected output shape\"\n",
        "    assert np.all(context.numpy() > 0), \"All output values must be > 0 in this example\"\n",
        "    assert np.all(context.numpy() < 1), \"All output values must be < 1 in this example\"\n",
        "\n",
        "    #assert np.allclose(context[0][0][0:5].numpy(), [0.50877404, 0.57160693, 0.45448175, 0.50074816, 0.53651875]), \"Unexpected values in the result\"\n",
        "    print(\"\\033[92mAll tests passed!\")\n",
        "    \n",
        "one_step_attention_test(one_step_attention)"
      ],
      "execution_count": null,
      "outputs": [
        {
          "output_type": "stream",
          "text": [
            "\u001b[92mAll tests passed!\n"
          ],
          "name": "stdout"
        }
      ]
    },
    {
      "cell_type": "code",
      "metadata": {
        "colab": {
          "base_uri": "https://localhost:8080/"
        },
        "id": "gwt5QvhQBdfK",
        "outputId": "a881c8d5-ee0b-4dee-e9d1-0b7ea810ca35"
      },
      "source": [
        "# UNIT TEST\n",
        "from test_utils import *\n",
        "\n",
        "def modelf_test(target):\n",
        "    m = 10\n",
        "    Tx = 30\n",
        "    n_a = 32\n",
        "    n_s = 64\n",
        "    len_human_vocab = 37\n",
        "    len_machine_vocab = 11\n",
        "    \n",
        "    \n",
        "    model = target(Tx, Ty, n_a, n_s, len_human_vocab, len_machine_vocab)\n",
        "    # model.summary()\n",
        "    \n",
        "    print(summary(model))\n",
        "\n",
        "    \n",
        "    expected_summary = [['InputLayer', [(None, 30, 37)], 0],\n",
        "                         ['InputLayer', [(None, 64)], 0],\n",
        "                         ['Bidirectional', (None, 30, 64), 17920],\n",
        "                         ['RepeatVector', (None, 30, 64), 0, 30],\n",
        "                         ['Concatenate', (None, 30, 128), 0],\n",
        "                         ['Dense', (None, 30, 10), 1290, 'tanh'],\n",
        "                         ['Dense', (None, 30, 1), 11, 'relu'],\n",
        "                         ['Activation', (None, 30, 1), 0],\n",
        "                         ['Dot', (None, 1, 64), 0],\n",
        "                         ['InputLayer', [(None, 64)], 0],\n",
        "                         ['LSTM',[(None, 64), (None, 64), (None, 64)], 33024,[(None, 1, 64), (None, 64), (None, 64)],'tanh'],\n",
        "                         ['Dense', (None, 11), 715, 'softmax']]\n",
        "\n",
        "    assert len(model.outputs) == 10, f\"Wrong output shape. Expected 10 != {len(model.outputs)}\"\n",
        "\n",
        "    comparator(summary(model), expected_summary)\n",
        "    \n",
        "\n",
        "modelf_test(modelf)"
      ],
      "execution_count": null,
      "outputs": [
        {
          "output_type": "stream",
          "text": [
            "[['InputLayer', [(None, 30, 37)], 0], ['InputLayer', [(None, 64)], 0], ['Bidirectional', (None, 30, 64), 17920], ['RepeatVector', (None, 30, 64), 0, 30], ['Concatenate', (None, 30, 128), 0], ['Dense', (None, 30, 10), 1290, 'tanh'], ['Dense', (None, 30, 1), 11, 'relu'], ['Activation', (None, 30, 1), 0], ['Dot', (None, 1, 64), 0], ['InputLayer', [(None, 64)], 0], ['LSTM', [(None, 64), (None, 64), (None, 64)], 33024, [(None, 1, 64), (None, 64), (None, 64)], 'tanh'], ['Dense', (None, 11), 715, 'softmax']]\n",
            "\u001b[32mAll tests passed!\u001b[0m\n"
          ],
          "name": "stdout"
        }
      ]
    },
    {
      "cell_type": "code",
      "metadata": {
        "id": "RHRueGNQQTCA"
      },
      "source": [
        "model = modelf(Tx, Ty, n_a, n_s, len(human_vocab), len(machine_vocab))"
      ],
      "execution_count": null,
      "outputs": []
    },
    {
      "cell_type": "code",
      "metadata": {
        "id": "5KD_PXXGB_Km"
      },
      "source": [
        "# initial_learning_rate = 0.0025\n",
        "# lr_schedule = tf.keras.optimizers.schedules.ExponentialDecay(\n",
        "#     initial_learning_rate,\n",
        "#     decay_steps=45,\n",
        "#     decay_rate=0.9)"
      ],
      "execution_count": null,
      "outputs": []
    },
    {
      "cell_type": "code",
      "metadata": {
        "id": "8sBlbxH7GVuH"
      },
      "source": [
        "opt = Adam(learning_rate=0.005, beta_1=0.9, beta_2=0.999, decay = 0.01) # Adam(..., decay = 0.01) \n",
        "model.compile(loss = 'categorical_crossentropy', optimizer = opt, metrics = ['accuracy'])"
      ],
      "execution_count": null,
      "outputs": []
    },
    {
      "cell_type": "code",
      "metadata": {
        "id": "RcwuFlrEQJy3"
      },
      "source": [
        "s0 = np.zeros((m, n_s))\n",
        "c0 = np.zeros((m, n_s))\n",
        "outputs = list(Yoh.swapaxes(0,1))"
      ],
      "execution_count": null,
      "outputs": []
    },
    {
      "cell_type": "code",
      "metadata": {
        "colab": {
          "base_uri": "https://localhost:8080/"
        },
        "id": "HVxXMKNPQco8",
        "outputId": "ba79a7ea-4379-44c9-d6e2-4d78a03144ac"
      },
      "source": [
        "print(Yoh.shape)\n",
        "print(Yoh.swapaxes(0,1).shape)"
      ],
      "execution_count": null,
      "outputs": [
        {
          "output_type": "stream",
          "text": [
            "(10000, 10, 11)\n",
            "(10, 10000, 11)\n"
          ],
          "name": "stdout"
        }
      ]
    },
    {
      "cell_type": "markdown",
      "metadata": {
        "id": "xIJTw2XjQi6X"
      },
      "source": [
        "![image.png](data:image/png;base64,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)"
      ]
    },
    {
      "cell_type": "code",
      "metadata": {
        "id": "fdsCEzkPSYDK"
      },
      "source": [
        "model.fit([Xoh, s0, c0], outputs, epochs=50, batch_size=100)"
      ],
      "execution_count": null,
      "outputs": []
    },
    {
      "cell_type": "code",
      "metadata": {
        "id": "QGJ48Q_XEfa4"
      },
      "source": [
        "model.save(\"model_convert_date_2.h5\")"
      ],
      "execution_count": null,
      "outputs": []
    },
    {
      "cell_type": "code",
      "metadata": {
        "id": "GXe_IqbVSonr"
      },
      "source": [
        "EXAMPLES = ['3 May 1979', '5 April 09', '21th of August 2016', 'Tue 10 Jul 2007', 'Saturday May 9 2018', 'March 3 2001', 'March 3rd 2001', '1 March 2001']\n",
        "s00 = np.zeros((1, n_s))\n",
        "c00 = np.zeros((1, n_s))\n",
        "for example in EXAMPLES:\n",
        "    source = string_to_int(example, Tx, human_vocab)\n",
        "    source = np.array(list(map(lambda x: to_categorical(x, num_classes=len(human_vocab)), source))).swapaxes(0,1)\n",
        "    source = np.swapaxes(source, 0, 1)\n",
        "    source = np.expand_dims(source, axis=0)\n",
        "    prediction = model.predict([source, s00, c00])\n",
        "    prediction = np.argmax(prediction, axis = -1)\n",
        "    output = [inv_machine_vocab[int(i)] for i in prediction]\n",
        "    print(\"source:\", example)\n",
        "    print(\"output:\", ''.join(output),\"\\n\")"
      ],
      "execution_count": null,
      "outputs": []
    },
    {
      "cell_type": "markdown",
      "metadata": {
        "id": "CX7Vd9-1Ldfi"
      },
      "source": [
        "**Extra (Some Explained)**"
      ]
    },
    {
      "cell_type": "code",
      "metadata": {
        "colab": {
          "base_uri": "https://localhost:8080/"
        },
        "id": "9h3Bl_bYGTXE",
        "outputId": "5aa0ee56-ec26-48d4-bc8d-158bae064bd6"
      },
      "source": [
        "print(type(human_vocab))\n",
        "print(human_vocab.items())\n",
        "print(inv_machine_vocab.items())"
      ],
      "execution_count": null,
      "outputs": [
        {
          "output_type": "stream",
          "text": [
            "<class 'dict'>\n",
            "dict_items([(' ', 0), ('.', 1), ('/', 2), ('0', 3), ('1', 4), ('2', 5), ('3', 6), ('4', 7), ('5', 8), ('6', 9), ('7', 10), ('8', 11), ('9', 12), ('a', 13), ('b', 14), ('c', 15), ('d', 16), ('e', 17), ('f', 18), ('g', 19), ('h', 20), ('i', 21), ('j', 22), ('l', 23), ('m', 24), ('n', 25), ('o', 26), ('p', 27), ('r', 28), ('s', 29), ('t', 30), ('u', 31), ('v', 32), ('w', 33), ('y', 34), ('<unk>', 35), ('<pad>', 36)])\n",
            "dict_items([(0, '-'), (1, '0'), (2, '1'), (3, '2'), (4, '3'), (5, '4'), (6, '5'), (7, '6'), (8, '7'), (9, '8'), (10, '9')])\n"
          ],
          "name": "stdout"
        }
      ]
    },
    {
      "cell_type": "code",
      "metadata": {
        "id": "dI0fnkNxGc6p"
      },
      "source": [
        "def string_to_int(string, length, vocab):\n",
        "    \"\"\"\n",
        "    Converts all strings in the vocabulary into a list of integers representing the positions of the\n",
        "    input string's characters in the \"vocab\"\n",
        "    \n",
        "    Arguments:\n",
        "    string -- input string, e.g. 'Wed 10 Jul 2007'\n",
        "    length -- the number of time steps you'd like, determines if the output will be padded or cut\n",
        "    vocab -- vocabulary, dictionary used to index every character of your \"string\"\n",
        "    \n",
        "    Returns:\n",
        "    rep -- list of integers (or '<unk>') (size = length) representing the position of the string's character in the vocabulary\n",
        "    \"\"\"\n",
        "    \n",
        "    #make lower to standardize\n",
        "    string = string.lower()\n",
        "    string = string.replace(',','')\n",
        "    \n",
        "    if len(string) > length:\n",
        "        string = string[:length]\n",
        "        \n",
        "    rep = list(map(lambda x: vocab.get(x, '<unk>'), string))\n",
        "    \n",
        "    if len(string) < length:\n",
        "        rep += [vocab['<pad>']] * (length - len(string))\n",
        "    \n",
        "    #print (rep)\n",
        "    return rep"
      ],
      "execution_count": null,
      "outputs": []
    },
    {
      "cell_type": "code",
      "metadata": {
        "id": "6Yq7TanZS85Q",
        "colab": {
          "base_uri": "https://localhost:8080/"
        },
        "outputId": "7241334d-2711-4fc5-ac1c-b394060e7a5f"
      },
      "source": [
        "EXAMPLES = ['3 May 1979', '5 April 09', '21th of August 2016', 'Tue 10 Jul 2007', 'Saturday May 9 2018', 'March 3 2001', 'March 3rd 2001', '1 March 2001']\n",
        "s00 = np.zeros((1, n_s))\n",
        "c00 = np.zeros((1, n_s))\n",
        "for example in EXAMPLES:\n",
        "    source = string_to_int(example, Tx, human_vocab)\n",
        "    source = np.array(list(map(lambda x: to_categorical(x, num_classes=len(human_vocab)), source)))\n",
        "    source = np.expand_dims(source, axis=0)\n",
        "    prediction = model.predict([source, s00, c00])\n",
        "    prediction = np.argmax(prediction, axis = -1)\n",
        "    output = [inv_machine_vocab[int(i)] for i in prediction]\n",
        "    print(\"source:\", example)\n",
        "    print(\"output:\", ''.join(output),\"\\n\")"
      ],
      "execution_count": null,
      "outputs": [
        {
          "output_type": "stream",
          "text": [
            "source: 3 May 1979\n",
            "output: 1979-05-03 \n",
            "\n",
            "source: 5 April 09\n",
            "output: 2009-04-05 \n",
            "\n",
            "source: 21th of August 2016\n",
            "output: 2016-08-20 \n",
            "\n",
            "source: Tue 10 Jul 2007\n",
            "output: 2007-07-10 \n",
            "\n",
            "source: Saturday May 9 2018\n",
            "output: 2018-05-09 \n",
            "\n",
            "source: March 3 2001\n",
            "output: 2011-03-03 \n",
            "\n",
            "source: March 3rd 2001\n",
            "output: 2011-03-03 \n",
            "\n",
            "source: 1 March 2001\n",
            "output: 2011-03-01 \n",
            "\n"
          ],
          "name": "stdout"
        }
      ]
    },
    {
      "cell_type": "code",
      "metadata": {
        "colab": {
          "base_uri": "https://localhost:8080/"
        },
        "id": "hN7kW2rXJCRd",
        "outputId": "66a61480-577f-4bdd-e8f2-54cbcb736fc6"
      },
      "source": [
        "EXAMPLES = [\"12/08/1975\"]\n",
        "s00 = np.zeros((1, n_s))\n",
        "c00 = np.zeros((1, n_s))\n",
        "for example in EXAMPLES:\n",
        "    source = string_to_int(example, Tx, human_vocab)\n",
        "    source = np.array(list(map(lambda x: to_categorical(x, num_classes=len(human_vocab)), source)))\n",
        "    source = np.expand_dims(source, axis=0)\n",
        "    prediction = model.predict([source, s00, c00])\n",
        "    prediction = np.argmax(prediction, axis = -1)\n",
        "    output = [inv_machine_vocab[int(i)] for i in prediction]\n",
        "    print(\"source:\", example)\n",
        "    print(\"output:\", ''.join(output),\"\\n\")"
      ],
      "execution_count": null,
      "outputs": [
        {
          "output_type": "stream",
          "text": [
            "source: 12/08/1975\n",
            "output: 1975-08-18 \n",
            "\n"
          ],
          "name": "stdout"
        }
      ]
    },
    {
      "cell_type": "code",
      "metadata": {
        "id": "RbwrTqEBF6IF"
      },
      "source": [
        ""
      ],
      "execution_count": null,
      "outputs": []
    }
  ]
}