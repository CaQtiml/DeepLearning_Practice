{
  "nbformat": 4,
  "nbformat_minor": 0,
  "metadata": {
    "colab": {
      "name": "1_FacialKeypoint",
      "provenance": [],
      "collapsed_sections": [],
      "authorship_tag": "ABX9TyN6KBp68z3Xz8c+2+H6Ngf5",
      "include_colab_link": true
    },
    "kernelspec": {
      "name": "python3",
      "display_name": "Python 3"
    },
    "language_info": {
      "name": "python"
    },
    "accelerator": "GPU"
  },
  "cells": [
    {
      "cell_type": "markdown",
      "metadata": {
        "id": "view-in-github",
        "colab_type": "text"
      },
      "source": [
        "<a href=\"https://colab.research.google.com/github/CaQtiml/Kaggle_Practice/blob/main/1_FacialKeypoint.ipynb\" target=\"_parent\"><img src=\"https://colab.research.google.com/assets/colab-badge.svg\" alt=\"Open In Colab\"/></a>"
      ]
    },
    {
      "cell_type": "code",
      "metadata": {
        "colab": {
          "base_uri": "https://localhost:8080/"
        },
        "id": "xytAcgTv62aU",
        "outputId": "65bd3e05-2cb2-495b-aa2b-9c7bc33d393e"
      },
      "source": [
        "# from google.colab import files\n",
        "# files.upload()\n",
        "# ! mkdir /.kaggle\n",
        "! cp kaggle.json ~/.kaggle/\n",
        "! chmod 600 ~/.kaggle/kaggle.json\n",
        "! kaggle competitions download -c facial-keypoints-detection\n",
        "! unzip test\n",
        "! unzip training\n"
      ],
      "execution_count": 7,
      "outputs": [
        {
          "output_type": "stream",
          "text": [
            "Warning: Looks like you're using an outdated API Version, please consider updating (server 1.5.12 / client 1.5.4)\n",
            "Downloading SampleSubmission.csv to /content\n",
            "  0% 0.00/201k [00:00<?, ?B/s]\n",
            "100% 201k/201k [00:00<00:00, 75.0MB/s]\n",
            "Downloading training.zip to /content\n",
            " 98% 59.0M/60.1M [00:00<00:00, 72.3MB/s]\n",
            "100% 60.1M/60.1M [00:00<00:00, 135MB/s] \n",
            "Downloading test.zip to /content\n",
            " 31% 5.00M/16.0M [00:00<00:00, 23.4MB/s]\n",
            "100% 16.0M/16.0M [00:00<00:00, 53.2MB/s]\n",
            "Downloading IdLookupTable.csv to /content\n",
            "  0% 0.00/843k [00:00<?, ?B/s]\n",
            "100% 843k/843k [00:00<00:00, 120MB/s]\n",
            "Archive:  test.zip\n",
            "  inflating: test.csv                \n",
            "Archive:  training.zip\n",
            "  inflating: training.csv            \n"
          ],
          "name": "stdout"
        }
      ]
    },
    {
      "cell_type": "code",
      "metadata": {
        "id": "zAzlbt_R_uUB"
      },
      "source": [
        "import numpy as np\n",
        "import matplotlib.pyplot as plt\n",
        "import pandas as pd\n",
        "from IPython.display import clear_output\n",
        "from time import sleep\n",
        "import os\n",
        "import tensorflow as tf\n",
        "from keras.layers.advanced_activations import LeakyReLU\n",
        "from keras.models import Sequential, Model\n",
        "from keras.layers import Activation, BatchNormalization, Flatten, Dense, \\\n",
        "    Dropout, Conv2D,MaxPool2D, ZeroPadding2D, Input, Add, GlobalAveragePooling2D\n",
        "import matplotlib.pyplot as plt"
      ],
      "execution_count": 59,
      "outputs": []
    },
    {
      "cell_type": "code",
      "metadata": {
        "id": "imeMCePB-36K"
      },
      "source": [
        "trainDir = \"training.csv\"\n",
        "testDir = \"test.csv\"\n",
        "lookIdData = \"IdLookupTable.csv\""
      ],
      "execution_count": 9,
      "outputs": []
    },
    {
      "cell_type": "code",
      "metadata": {
        "id": "V4wXUeG8_Ko2"
      },
      "source": [
        "train_data = pd.read_csv(trainDir)\n",
        "test_data = pd.read_csv(testDir)"
      ],
      "execution_count": 10,
      "outputs": []
    },
    {
      "cell_type": "code",
      "metadata": {
        "id": "NaLkGG9l_rhA"
      },
      "source": [
        "train_data.head(3).T\n",
        "# test_data.head(3)"
      ],
      "execution_count": null,
      "outputs": []
    },
    {
      "cell_type": "code",
      "metadata": {
        "colab": {
          "base_uri": "https://localhost:8080/"
        },
        "id": "To2qqCuKAVhz",
        "outputId": "f2e50a7c-6b6e-471c-c6ca-19b73c117528"
      },
      "source": [
        "# train_data.isnull().value_counts()\n",
        "train_data.isnull().any().value_counts()\n",
        "\n",
        "# There are missing values in 28 columns. "
      ],
      "execution_count": 12,
      "outputs": [
        {
          "output_type": "execute_result",
          "data": {
            "text/plain": [
              "True     28\n",
              "False     3\n",
              "dtype: int64"
            ]
          },
          "metadata": {
            "tags": []
          },
          "execution_count": 12
        }
      ]
    },
    {
      "cell_type": "code",
      "metadata": {
        "id": "1CI4cXOsBQC-"
      },
      "source": [
        "train_data.fillna(method = 'ffill',inplace = True)\n",
        "# https://stackoverflow.com/questions/27905295/how-to-replace-nans-by-preceding-or-next-values-in-pandas-dataframe"
      ],
      "execution_count": 13,
      "outputs": []
    },
    {
      "cell_type": "code",
      "metadata": {
        "colab": {
          "base_uri": "https://localhost:8080/"
        },
        "id": "w2iD9cygCX9x",
        "outputId": "5f533c4c-239b-4fa2-c195-1eed57f85c69"
      },
      "source": [
        "train_data.isnull().any().value_counts()\n",
        "# No missing value remain."
      ],
      "execution_count": 14,
      "outputs": [
        {
          "output_type": "execute_result",
          "data": {
            "text/plain": [
              "False    31\n",
              "dtype: int64"
            ]
          },
          "metadata": {
            "tags": []
          },
          "execution_count": 14
        }
      ]
    },
    {
      "cell_type": "code",
      "metadata": {
        "colab": {
          "base_uri": "https://localhost:8080/"
        },
        "id": "PiDucLxICfjF",
        "outputId": "54eb07ba-7105-4762-80d5-281ed096ffd4"
      },
      "source": [
        "print(train_data.shape)\n",
        "print(train_data.columns)"
      ],
      "execution_count": 15,
      "outputs": [
        {
          "output_type": "stream",
          "text": [
            "(7049, 31)\n",
            "Index(['left_eye_center_x', 'left_eye_center_y', 'right_eye_center_x',\n",
            "       'right_eye_center_y', 'left_eye_inner_corner_x',\n",
            "       'left_eye_inner_corner_y', 'left_eye_outer_corner_x',\n",
            "       'left_eye_outer_corner_y', 'right_eye_inner_corner_x',\n",
            "       'right_eye_inner_corner_y', 'right_eye_outer_corner_x',\n",
            "       'right_eye_outer_corner_y', 'left_eyebrow_inner_end_x',\n",
            "       'left_eyebrow_inner_end_y', 'left_eyebrow_outer_end_x',\n",
            "       'left_eyebrow_outer_end_y', 'right_eyebrow_inner_end_x',\n",
            "       'right_eyebrow_inner_end_y', 'right_eyebrow_outer_end_x',\n",
            "       'right_eyebrow_outer_end_y', 'nose_tip_x', 'nose_tip_y',\n",
            "       'mouth_left_corner_x', 'mouth_left_corner_y', 'mouth_right_corner_x',\n",
            "       'mouth_right_corner_y', 'mouth_center_top_lip_x',\n",
            "       'mouth_center_top_lip_y', 'mouth_center_bottom_lip_x',\n",
            "       'mouth_center_bottom_lip_y', 'Image'],\n",
            "      dtype='object')\n"
          ],
          "name": "stdout"
        }
      ]
    },
    {
      "cell_type": "code",
      "metadata": {
        "id": "753kcogCEE_W"
      },
      "source": [
        "# chk = True\n",
        "# m = train_data.shape[0]\n",
        "# for i in range(m):\n",
        "#     chk = (len(train_data[\"Image\"][0].split(\" \"))==9216) and chk\n",
        "# # len(train_data[\"Image\"][0].split(\" \"))\n",
        "# print(chk)"
      ],
      "execution_count": 16,
      "outputs": []
    },
    {
      "cell_type": "code",
      "metadata": {
        "id": "CQ3Qz_PLDfCZ"
      },
      "source": [
        "images = []\n",
        "m = train_data.shape[0]\n",
        "# type(train_data[\"Image\"][0])\n",
        "for i in range(m):\n",
        "    img = train_data[\"Image\"][i].split(' ')\n",
        "    img = [float(x) for x in img]\n",
        "    images.append(img)\n"
      ],
      "execution_count": 129,
      "outputs": []
    },
    {
      "cell_type": "code",
      "metadata": {
        "id": "nLr8PYmKFaUm"
      },
      "source": [
        "image_list = np.array(images)\n",
        "image_list = image_list/255.\n",
        "X = image_list.reshape(-1,96,96,1)"
      ],
      "execution_count": 130,
      "outputs": []
    },
    {
      "cell_type": "code",
      "metadata": {
        "colab": {
          "base_uri": "https://localhost:8080/",
          "height": 143
        },
        "id": "As2cHFkgJNvG",
        "outputId": "2ecd9629-690b-42ef-b834-ef33638518ef"
      },
      "source": [
        "test_data.head(3)"
      ],
      "execution_count": 131,
      "outputs": [
        {
          "output_type": "execute_result",
          "data": {
            "text/html": [
              "<div>\n",
              "<style scoped>\n",
              "    .dataframe tbody tr th:only-of-type {\n",
              "        vertical-align: middle;\n",
              "    }\n",
              "\n",
              "    .dataframe tbody tr th {\n",
              "        vertical-align: top;\n",
              "    }\n",
              "\n",
              "    .dataframe thead th {\n",
              "        text-align: right;\n",
              "    }\n",
              "</style>\n",
              "<table border=\"1\" class=\"dataframe\">\n",
              "  <thead>\n",
              "    <tr style=\"text-align: right;\">\n",
              "      <th></th>\n",
              "      <th>ImageId</th>\n",
              "      <th>Image</th>\n",
              "    </tr>\n",
              "  </thead>\n",
              "  <tbody>\n",
              "    <tr>\n",
              "      <th>0</th>\n",
              "      <td>1</td>\n",
              "      <td>182 183 182 182 180 180 176 169 156 137 124 10...</td>\n",
              "    </tr>\n",
              "    <tr>\n",
              "      <th>1</th>\n",
              "      <td>2</td>\n",
              "      <td>76 87 81 72 65 59 64 76 69 42 31 38 49 58 58 4...</td>\n",
              "    </tr>\n",
              "    <tr>\n",
              "      <th>2</th>\n",
              "      <td>3</td>\n",
              "      <td>177 176 174 170 169 169 168 166 166 166 161 14...</td>\n",
              "    </tr>\n",
              "  </tbody>\n",
              "</table>\n",
              "</div>"
            ],
            "text/plain": [
              "   ImageId                                              Image\n",
              "0        1  182 183 182 182 180 180 176 169 156 137 124 10...\n",
              "1        2  76 87 81 72 65 59 64 76 69 42 31 38 49 58 58 4...\n",
              "2        3  177 176 174 170 169 169 168 166 166 166 161 14..."
            ]
          },
          "metadata": {
            "tags": []
          },
          "execution_count": 131
        }
      ]
    },
    {
      "cell_type": "code",
      "metadata": {
        "id": "lawYqxQQJZIq"
      },
      "source": [
        "testImages = []\n",
        "for i in range(test_data.shape[0]):\n",
        "    img = test_data[\"Image\"][i].split(\" \")\n",
        "    img = [float(x) for x in img]\n",
        "    testImages.append(img)"
      ],
      "execution_count": 132,
      "outputs": []
    },
    {
      "cell_type": "code",
      "metadata": {
        "id": "gWtUWNdbKlwQ"
      },
      "source": [
        "testImages = np.array(testImages)\n",
        "testImages = testImages/255.\n",
        "X_test = testImages.reshape(-1,96,96,1)"
      ],
      "execution_count": 133,
      "outputs": []
    },
    {
      "cell_type": "code",
      "metadata": {
        "colab": {
          "base_uri": "https://localhost:8080/",
          "height": 268
        },
        "id": "8kKoM8nTK2H6",
        "outputId": "51c86a52-f933-404d-ed70-de13b400f0aa"
      },
      "source": [
        "plt.imshow(np.squeeze(X_test[0]),cmap='gray')\n",
        "plt.show()"
      ],
      "execution_count": 134,
      "outputs": [
        {
          "output_type": "display_data",
          "data": {
            "image/png": "[encoded data removed]",
            "text/plain": [
              "<Figure size 432x288 with 1 Axes>"
            ]
          },
          "metadata": {
            "tags": [],
            "needs_background": "light"
          }
        }
      ]
    },
    {
      "cell_type": "code",
      "metadata": {
        "id": "zsdjZZSSGG2L"
      },
      "source": [
        "training = train_data.drop(\"Image\",axis=1)\n",
        "y = []\n",
        "for i in range(training.shape[0]):\n",
        "    yy = training.iloc[i,:]\n",
        "    y.append(yy)\n",
        "\n",
        "y = np.array(y)"
      ],
      "execution_count": 135,
      "outputs": []
    },
    {
      "cell_type": "code",
      "metadata": {
        "colab": {
          "base_uri": "https://localhost:8080/",
          "height": 268
        },
        "id": "DASre5LfPU_q",
        "outputId": "77f8cabc-e71f-47e3-a775-cda5e5f10b27"
      },
      "source": [
        "XX = []\n",
        "yy = []\n",
        "for i in range(int(y_train.shape[1]/2)):\n",
        "    XX.append(y[0][i*2])\n",
        "    yy.append(y[0][i*2+1])\n",
        "plt.imshow(np.squeeze(X[0]),cmap='gray')\n",
        "plt.scatter(XX,yy)\n",
        "plt.show()"
      ],
      "execution_count": 136,
      "outputs": [
        {
          "output_type": "display_data",
          "data": {
            "image/png": "[encoded data removed]",
            "text/plain": [
              "<Figure size 432x288 with 1 Axes>"
            ]
          },
          "metadata": {
            "tags": [],
            "needs_background": "light"
          }
        }
      ]
    },
    {
      "cell_type": "code",
      "metadata": {
        "colab": {
          "base_uri": "https://localhost:8080/"
        },
        "id": "wLrWwwV5Q9F1",
        "outputId": "67f3f261-450a-44e0-9d06-e903bb91016d"
      },
      "source": [
        "X.shape"
      ],
      "execution_count": 137,
      "outputs": [
        {
          "output_type": "execute_result",
          "data": {
            "text/plain": [
              "(7049, 96, 96, 1)"
            ]
          },
          "metadata": {
            "tags": []
          },
          "execution_count": 137
        }
      ]
    },
    {
      "cell_type": "code",
      "metadata": {
        "id": "secAib0sxKqZ"
      },
      "source": [
        "def identity_block(x, f, filters, training=True):\n",
        "    # print(x.shape)\n",
        "    x_shortcut = x\n",
        "    x = Conv2D(filters,f,\n",
        "               padding = \"same\",\n",
        "               activation = \"relu\")(x)\n",
        "    x = BatchNormalization()(x,training=True)\n",
        "\n",
        "    x = Conv2D(filters,f,\n",
        "               padding = \"same\",\n",
        "               activation = \"relu\")(x)\n",
        "    x = BatchNormalization()(x,training=True)\n",
        "\n",
        "    # print(x.shape)\n",
        "    # print(\"---------------\")\n",
        "    x = Add()([x,x_shortcut])\n",
        "    x = Activation('relu')(x)\n",
        "\n",
        "    return x\n"
      ],
      "execution_count": 138,
      "outputs": []
    },
    {
      "cell_type": "code",
      "metadata": {
        "id": "cFEcMRLgJWe_"
      },
      "source": [
        "def conv_block(x, f, filters, training=True):\n",
        "    # print(x.shape)\n",
        "    x_shortcut = x\n",
        "\n",
        "    x = Conv2D(filters,f,\n",
        "               padding = \"same\",\n",
        "               activation = \"relu\")(x)\n",
        "    x = BatchNormalization()(x,training=True)\n",
        "\n",
        "    x = Conv2D(filters,f,\n",
        "               padding = \"same\",\n",
        "               activation = \"relu\")(x)\n",
        "    x = BatchNormalization()(x,training=True)\n",
        "\n",
        "    x_shortcut =  Conv2D(filters,f,\n",
        "               padding = \"same\",\n",
        "               activation = \"relu\")(x_shortcut)\n",
        "    x_shortcut = BatchNormalization()(x_shortcut,training=True)\n",
        "\n",
        "    # print(x.shape)\n",
        "    # print(\"---------------\")\n",
        "    x = Add()([x,x_shortcut])\n",
        "    x = Activation('relu')(x)\n",
        "\n",
        "\n",
        "    return x\n"
      ],
      "execution_count": 139,
      "outputs": []
    },
    {
      "cell_type": "code",
      "metadata": {
        "id": "9BaDBV9l499y"
      },
      "source": [
        "INPUT_SHAPE = (96,96,1)\n",
        "\n",
        "inputs = Input(INPUT_SHAPE)\n",
        "x = conv_block(inputs,3,32)\n",
        "x = identity_block(x,3,32)\n",
        "x = MaxPool2D(pool_size=(2, 2), strides=2)(x)\n",
        "\n",
        "x = conv_block(x,3,64)\n",
        "x = identity_block(x,3,64)\n",
        "x = MaxPool2D(pool_size=(2, 2), strides=2)(x)\n",
        "\n",
        "x = conv_block(x,3,128)\n",
        "x = identity_block(x,3,128)\n",
        "x = MaxPool2D(pool_size=(2, 2), strides=2)(x)\n",
        "\n",
        "x = conv_block(x,3,256)\n",
        "x = identity_block(x,3,256)\n",
        "x = MaxPool2D(pool_size=(2, 2), strides=2)(x)\n",
        "\n",
        "x = GlobalAveragePooling2D()(x)\n",
        "x = Dense(512,activation='relu')(x)\n",
        "x = Dropout(0.1)(x)\n",
        "outputs = Dense(30)(x)\n",
        "\n"
      ],
      "execution_count": 140,
      "outputs": []
    },
    {
      "cell_type": "code",
      "metadata": {
        "id": "mZebsamxFnHT"
      },
      "source": [
        "model = tf.keras.Model(inputs, outputs)"
      ],
      "execution_count": 141,
      "outputs": []
    },
    {
      "cell_type": "code",
      "metadata": {
        "id": "8zdIqF36NpOH"
      },
      "source": [
        "from sklearn.model_selection import train_test_split\n",
        "\n",
        "X_train, X_cv, y_train, y_cv = train_test_split(X, y, test_size=0.2, random_state=42)"
      ],
      "execution_count": 142,
      "outputs": []
    },
    {
      "cell_type": "code",
      "metadata": {
        "id": "wQQkhaaJLlu3"
      },
      "source": [
        "model.compile(loss=tf.keras.losses.mse, # mae is short for mean absolute error\n",
        "              optimizer=tf.keras.optimizers.Adam(), # sgd is short for stochastic gradient descent\n",
        "              metrics=[\"mae\"])"
      ],
      "execution_count": 143,
      "outputs": []
    },
    {
      "cell_type": "code",
      "metadata": {
        "colab": {
          "base_uri": "https://localhost:8080/"
        },
        "id": "ncgu0zpcLuTR",
        "outputId": "6e417d1f-a4e7-43af-9484-953b0d034ec2"
      },
      "source": [
        "history = model.fit(X_train,\n",
        "                    y_train,\n",
        "                    epochs=15)"
      ],
      "execution_count": 144,
      "outputs": [
        {
          "output_type": "stream",
          "text": [
            "Epoch 1/15\n",
            "177/177 [==============================] - 10s 45ms/step - loss: 123.0744 - mae: 4.7417\n",
            "Epoch 2/15\n",
            "177/177 [==============================] - 8s 45ms/step - loss: 8.2432 - mae: 1.8131\n",
            "Epoch 3/15\n",
            "177/177 [==============================] - 8s 45ms/step - loss: 7.0494 - mae: 1.6409\n",
            "Epoch 4/15\n",
            "177/177 [==============================] - 8s 45ms/step - loss: 6.3108 - mae: 1.5526\n",
            "Epoch 5/15\n",
            "177/177 [==============================] - 8s 45ms/step - loss: 5.7236 - mae: 1.4937\n",
            "Epoch 6/15\n",
            "177/177 [==============================] - 8s 45ms/step - loss: 5.1803 - mae: 1.4261\n",
            "Epoch 7/15\n",
            "177/177 [==============================] - 8s 45ms/step - loss: 4.8171 - mae: 1.3851\n",
            "Epoch 8/15\n",
            "177/177 [==============================] - 8s 45ms/step - loss: 4.2654 - mae: 1.3031\n",
            "Epoch 9/15\n",
            "177/177 [==============================] - 8s 45ms/step - loss: 3.9716 - mae: 1.2656\n",
            "Epoch 10/15\n",
            "177/177 [==============================] - 8s 46ms/step - loss: 3.6367 - mae: 1.1986\n",
            "Epoch 11/15\n",
            "177/177 [==============================] - 8s 45ms/step - loss: 3.4674 - mae: 1.1803\n",
            "Epoch 12/15\n",
            "177/177 [==============================] - 8s 45ms/step - loss: 3.2204 - mae: 1.1511\n",
            "Epoch 13/15\n",
            "177/177 [==============================] - 8s 45ms/step - loss: 3.0322 - mae: 1.1138\n",
            "Epoch 14/15\n",
            "177/177 [==============================] - 8s 45ms/step - loss: 3.1019 - mae: 1.1264\n",
            "Epoch 15/15\n",
            "177/177 [==============================] - 8s 45ms/step - loss: 2.6855 - mae: 1.0529\n"
          ],
          "name": "stdout"
        }
      ]
    },
    {
      "cell_type": "code",
      "metadata": {
        "colab": {
          "base_uri": "https://localhost:8080/"
        },
        "id": "uPo-u6uLMkqe",
        "outputId": "b28a33fd-dc14-489b-993c-1fd4652d7148"
      },
      "source": [
        "model.evaluate(X_cv, y_cv)"
      ],
      "execution_count": 145,
      "outputs": [
        {
          "output_type": "stream",
          "text": [
            "45/45 [==============================] - 1s 15ms/step - loss: 4.5662 - mae: 1.4108\n"
          ],
          "name": "stdout"
        },
        {
          "output_type": "execute_result",
          "data": {
            "text/plain": [
              "[4.566198348999023, 1.4107844829559326]"
            ]
          },
          "metadata": {
            "tags": []
          },
          "execution_count": 145
        }
      ]
    },
    {
      "cell_type": "code",
      "metadata": {
        "id": "3BWKT_unOVrn"
      },
      "source": [
        "yy_pred = model.predict(X_cv)"
      ],
      "execution_count": 146,
      "outputs": []
    },
    {
      "cell_type": "code",
      "metadata": {
        "id": "6nSImgJPOpBg"
      },
      "source": [
        "# print(yy_pred[0]-yy_test[0])\n",
        "# print(yy_test[0])"
      ],
      "execution_count": 147,
      "outputs": []
    },
    {
      "cell_type": "code",
      "metadata": {
        "id": "kVE6L-6UOzjY"
      },
      "source": [
        "XX_true = []\n",
        "YY_true = []\n",
        "XX_pred = []\n",
        "YY_pred = []\n",
        "for j in range(10):\n",
        "    for i in range(int(yy_pred.shape[1]/2)):\n",
        "        XX_true.append(y_cv[j][i*2])\n",
        "        YY_true.append(y_cv[j][i*2+1])\n",
        "        XX_pred.append(yy_pred[j][i*2])\n",
        "        YY_pred.append(yy_pred[j][i*2+1])\n",
        "    plt.imshow(np.squeeze(XX_test[j]),cmap='gray')\n",
        "    plt.scatter(XX_true,YY_true,color=\"green\")\n",
        "    plt.scatter(XX_pred,YY_pred,color=\"red\")\n",
        "    plt.show()"
      ],
      "execution_count": null,
      "outputs": []
    },
    {
      "cell_type": "code",
      "metadata": {
        "id": "PCObDJTxPKlZ"
      },
      "source": [
        "XX = []\n",
        "YY = []\n",
        "\n",
        "y_pred = model.predict(X_test)\n",
        "\n",
        "for j in range(10):\n",
        "    for i in range(int(yy_pred.shape[1]/2)):\n",
        "        XX.append(y_pred[j][i*2])\n",
        "        YY.append(y_pred[j][i*2+1])\n",
        "    plt.imshow(np.squeeze(X_test[j]),cmap='gray')\n",
        "    plt.scatter(XX,YY,color=\"orange\")\n",
        "    plt.show()"
      ],
      "execution_count": null,
      "outputs": []
    },
    {
      "cell_type": "code",
      "metadata": {
        "id": "WsXnQ1gXRayB"
      },
      "source": [
        "lookid_data = pd.read_csv(\"IdLookupTable.csv\")"
      ],
      "execution_count": 150,
      "outputs": []
    },
    {
      "cell_type": "code",
      "metadata": {
        "id": "SrlB1ROxWk9x"
      },
      "source": [
        "lookid_list = list(lookid_data['FeatureName'])\n",
        "imageID = list(lookid_data['ImageId']-1)\n",
        "pre_list = list(y_pred)"
      ],
      "execution_count": 151,
      "outputs": []
    },
    {
      "cell_type": "code",
      "metadata": {
        "id": "KL1rQiZMXuDj"
      },
      "source": [
        "pre_list"
      ],
      "execution_count": null,
      "outputs": []
    },
    {
      "cell_type": "code",
      "metadata": {
        "id": "Dsk-grJ9W3AP"
      },
      "source": [
        "rowid = lookid_data['RowId']\n",
        "rowid=list(rowid)"
      ],
      "execution_count": 153,
      "outputs": []
    },
    {
      "cell_type": "code",
      "metadata": {
        "id": "u5t7PXzfXAnO"
      },
      "source": [
        "feature = []\n",
        "for f in list(lookid_data['FeatureName']):\n",
        "    feature.append(lookid_list.index(f))"
      ],
      "execution_count": 154,
      "outputs": []
    },
    {
      "cell_type": "code",
      "metadata": {
        "id": "x5tYeQlCX3oy"
      },
      "source": [
        "preded = []\n",
        "for x,y in zip(imageID,feature):\n",
        "    preded.append(pre_list[x][y])"
      ],
      "execution_count": 155,
      "outputs": []
    },
    {
      "cell_type": "code",
      "metadata": {
        "id": "TBwfFyj4X5Xe"
      },
      "source": [
        "rowid = pd.Series(rowid,name = 'RowId')\n",
        "loc = pd.Series(preded,name = 'Location')\n",
        "submission = pd.concat([rowid,loc],axis = 1)"
      ],
      "execution_count": 156,
      "outputs": []
    },
    {
      "cell_type": "code",
      "metadata": {
        "id": "9W_SDTolX9lB"
      },
      "source": [
        "submission.to_csv('face_key_detection_submission.csv',index = False)"
      ],
      "execution_count": 157,
      "outputs": []
    },
    {
      "cell_type": "code",
      "metadata": {
        "colab": {
          "base_uri": "https://localhost:8080/"
        },
        "id": "554dtQy0X_W7",
        "outputId": "44251276-2e8a-49e9-b7ab-b447367d11a6"
      },
      "source": [
        "!kaggle competitions submit -c facial-keypoints-detection -f face_key_detection_submission.csv -m \"Test\""
      ],
      "execution_count": 158,
      "outputs": [
        {
          "output_type": "stream",
          "text": [
            "Warning: Looks like you're using an outdated API Version, please consider updating (server 1.5.12 / client 1.5.4)\n",
            "100% 629k/629k [00:02<00:00, 241kB/s]\n",
            "Successfully submitted to Facial Keypoints Detection"
          ],
          "name": "stdout"
        }
      ]
    },
    {
      "cell_type": "code",
      "metadata": {
        "id": "LYKBDefbYTJ4"
      },
      "source": [
        ""
      ],
      "execution_count": 158,
      "outputs": []
    }
  ]
}